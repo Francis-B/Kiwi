{
 "cells": [
  {
   "cell_type": "code",
   "execution_count": 9,
   "metadata": {},
   "outputs": [],
   "source": [
    "import timeit\n",
    "import os\n",
    "import sys\n",
    "\n",
    "PARENTDIR = os.path.join(os.getcwd(), '..')\n",
    "sys.path.append(PARENTDIR)\n",
    "\n",
    "from digestion import Digestion"
   ]
  },
  {
   "attachments": {},
   "cell_type": "markdown",
   "metadata": {},
   "source": [
    "## Initializing and parsing the fasta file"
   ]
  },
  {
   "cell_type": "code",
   "execution_count": 10,
   "metadata": {},
   "outputs": [
    {
     "data": {
      "text/plain": [
       "0.08033502699981909"
      ]
     },
     "execution_count": 10,
     "metadata": {},
     "output_type": "execute_result"
    }
   ],
   "source": [
    "FASTA = os.path.join(PARENTDIR,'data', 'uniprot_SwissProt_Human_1_11_2017.fasta')\n",
    "\n",
    "timeit.timeit('Digestion(FASTA)', globals=globals(), number=1)"
   ]
  },
  {
   "attachments": {},
   "cell_type": "markdown",
   "metadata": {},
   "source": [
    "## Performing enzymatic digestion"
   ]
  },
  {
   "cell_type": "code",
   "execution_count": 11,
   "metadata": {},
   "outputs": [
    {
     "data": {
      "text/plain": [
       "4.334747801000049"
      ]
     },
     "execution_count": 11,
     "metadata": {},
     "output_type": "execute_result"
    }
   ],
   "source": [
    "digestion = Digestion(FASTA)\n",
    "\n",
    "timeit.timeit('digestion.cleave_proteins()', globals=globals(), number=1)"
   ]
  },
  {
   "attachments": {},
   "cell_type": "markdown",
   "metadata": {},
   "source": [
    "## Comparing all sequences to idenfy the unique peptide sequences"
   ]
  },
  {
   "cell_type": "code",
   "execution_count": 12,
   "metadata": {},
   "outputs": [
    {
     "data": {
      "text/plain": [
       "3.900078570000005"
      ]
     },
     "execution_count": 12,
     "metadata": {},
     "output_type": "execute_result"
    }
   ],
   "source": [
    "digestion.cleave_proteins()\n",
    "\n",
    "timeit.timeit('digestion.check_peptide_uniqueness()', globals=globals(), number=1)"
   ]
  },
  {
   "attachments": {},
   "cell_type": "markdown",
   "metadata": {},
   "source": [
    "## Database size"
   ]
  },
  {
   "cell_type": "code",
   "execution_count": 13,
   "metadata": {},
   "outputs": [
    {
     "name": "stdout",
     "output_type": "stream",
     "text": [
      "Number of proteins: 20130\n",
      "Number of peptide sequences: 3043984\n"
     ]
    }
   ],
   "source": [
    "print(f\"\"\"Number of proteins: {len(digestion.proteins)}\n",
    "Number of peptide sequences: {len([pep for peptides in digestion.peptides.values() for pep in peptides])}\"\"\")"
   ]
  },
  {
   "attachments": {},
   "cell_type": "markdown",
   "metadata": {},
   "source": [
    "## Parameters used"
   ]
  },
  {
   "cell_type": "code",
   "execution_count": 14,
   "metadata": {},
   "outputs": [
    {
     "name": "stdout",
     "output_type": "stream",
     "text": [
      "Parameters:\n",
      "\n",
      "Enzyme: trypsin\n",
      "Minimum peptide sequence length: 7\n",
      "Maximum peptide sequence length: None\n",
      "Maximum of miscleavages: 1\n",
      "Maximum peptide's mass: 4600\n",
      "\n"
     ]
    }
   ],
   "source": [
    "print(digestion)"
   ]
  }
 ],
 "metadata": {
  "kernelspec": {
   "display_name": "stat",
   "language": "python",
   "name": "python3"
  },
  "language_info": {
   "codemirror_mode": {
    "name": "ipython",
    "version": 3
   },
   "file_extension": ".py",
   "mimetype": "text/x-python",
   "name": "python",
   "nbconvert_exporter": "python",
   "pygments_lexer": "ipython3",
   "version": "3.11.5"
  },
  "orig_nbformat": 4
 },
 "nbformat": 4,
 "nbformat_minor": 2
}
